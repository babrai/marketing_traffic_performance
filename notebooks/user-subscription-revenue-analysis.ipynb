{
 "cells": [
  {
   "cell_type": "markdown",
   "id": "e51b10b2-be5e-411b-b645-7d8e0c88f0ca",
   "metadata": {},
   "source": [
    "### Task\n",
    "\n",
    "A file user_purchases.csv contains transaction data of users with a weekly subscription.\n",
    "Each row represents one transaction.\n",
    "\n",
    "Columns:\n",
    "- transaction_id — unique ID of each transaction\n",
    "- original_transaction_id — ID of the first transaction of a user (the same for all transactions of this user)\n",
    "- purchase_date — date of the transaction\n",
    "- original_purchase_date — date of the first transaction of the subscription\n",
    "\n",
    "Conditions:\n",
    "- Subscription length is 7 days\n",
    "- The first week is a free trial\n",
    "- Each subsequent week costs $4.99\n",
    "\n",
    "Metrics to calculate:\n",
    "- Trial-to-paid conversion rate — the share of users who made at least one paid transaction after the 7-day trial ended.\n",
    "- Average net revenue per user at day 14 — the average total revenue per user within the first 14 days from the start of the trial.\n",
    "- Forecasted average net revenue per user at day 90 — the expected average total revenue per user by day 90."
   ]
  },
  {
   "cell_type": "markdown",
   "id": "abb0b335-5faf-441f-a3a1-ccf2dcc888cc",
   "metadata": {},
   "source": [
    "## Data Analysis Plan\n",
    "\n",
    "### 1. Data understanding\n",
    "- Load CSV file\n",
    "- Inspect schema (columns, dtypes, row count)\n",
    "- Understand granularity (1 row = 1 transaction)\n",
    "- Identify primary keys (`transaction_id`) and user keys (`original_transaction_id`)\n",
    "- Understand the meaning of each column and its role in metrics\n",
    "\n",
    "### 2. Data quality checks\n",
    "- Missing values\n",
    "- Duplicates\n",
    "- Unique `transaction_id`\n",
    "- Consistent `original_purchase_date` per user\n",
    "- Logical date order (`purchase_date` ≥ `original_purchase_date`)\n",
    "- Increasing `purchase_date` within each user\n",
    "- One transaction per user per 7-day period (no `gap_days` < 7)\n",
    "- Reasonable `days_since_start` values (0, ~7, ~14, …)\n",
    "\n",
    "### 3. Feature engineering\n",
    "- Calculate `days_since_start` (days from trial start to each transaction)\n",
    "- Flag trial vs paid transactions (`is_paid`)\n",
    "- Assign subscription week number (`week_number`)\n",
    "\n",
    "### 4. Metric calculations\n",
    "- Trial-to-paid conversion rate\n",
    "- Average net revenue per user at day 14\n",
    "- Forecasted average net revenue per user at day 90\n"
   ]
  },
  {
   "cell_type": "code",
   "execution_count": 2,
   "id": "2e00fe3b-5fc3-425e-ad45-625d1fb1b1ad",
   "metadata": {},
   "outputs": [
    {
     "name": "stdout",
     "output_type": "stream",
     "text": [
      "Shape (rows, columns): (5000, 4)\n",
      "\n",
      "Column names: ['original_transaction_id', 'original_purchase_date', 'transaction_id', 'purchase_date']\n",
      "\n",
      "Data types:\n",
      "original_transaction_id     int64\n",
      "original_purchase_date     object\n",
      "transaction_id              int64\n",
      "purchase_date              object\n",
      "dtype: object\n",
      "\n",
      "Sample rows:\n",
      "   original_transaction_id original_purchase_date   transaction_id  \\\n",
      "0          100001666350205             2024-05-01  100001673857680   \n",
      "1          100001666350205             2024-05-01  100001666350205   \n",
      "2          100001666350205             2024-05-01  100001683102502   \n",
      "3          100001666928347             2024-05-01  100001666928347   \n",
      "4          100001667091726             2024-05-01  100001667091726   \n",
      "\n",
      "  purchase_date  \n",
      "0    2024-05-08  \n",
      "1    2024-05-01  \n",
      "2    2024-05-23  \n",
      "3    2024-05-01  \n",
      "4    2024-05-01  \n"
     ]
    }
   ],
   "source": [
    "import pandas as pd\n",
    "\n",
    "# --- Load data ---\n",
    "df = pd.read_csv(\"user_purchases.csv\", sep=';')\n",
    "\n",
    "# --- Basic info ---\n",
    "print(\"Shape (rows, columns):\", df.shape)\n",
    "print(\"\\nColumn names:\", df.columns.tolist())\n",
    "print(\"\\nData types:\")\n",
    "print(df.dtypes)\n",
    "\n",
    "# --- First 5 rows ---\n",
    "print(\"\\nSample rows:\")\n",
    "print(df.head())"
   ]
  },
  {
   "cell_type": "code",
   "execution_count": 3,
   "id": "549bfba2-7bfb-44b5-b64a-37e3e0ef725d",
   "metadata": {},
   "outputs": [
    {
     "name": "stdout",
     "output_type": "stream",
     "text": [
      "original_transaction_id             int64\n",
      "original_purchase_date     datetime64[ns]\n",
      "transaction_id                      int64\n",
      "purchase_date              datetime64[ns]\n",
      "dtype: object\n"
     ]
    }
   ],
   "source": [
    "# --- Convert date columns to datetime ---\n",
    "df[\"original_purchase_date\"] = pd.to_datetime(df[\"original_purchase_date\"], errors=\"coerce\")\n",
    "df[\"purchase_date\"] = pd.to_datetime(df[\"purchase_date\"], errors=\"coerce\")\n",
    "\n",
    "# check results\n",
    "print(df.dtypes.head())\n"
   ]
  },
  {
   "cell_type": "code",
   "execution_count": 4,
   "id": "f5e48631-a33f-4047-b660-da002f268ad3",
   "metadata": {},
   "outputs": [
    {
     "name": "stdout",
     "output_type": "stream",
     "text": [
      "Missing values per column:\n",
      "original_transaction_id    0\n",
      "original_purchase_date     0\n",
      "transaction_id             0\n",
      "purchase_date              0\n",
      "dtype: int64\n",
      "\n",
      "Number of duplicate rows: 0\n",
      "\n",
      "Unique transaction_id: 5000\n",
      "Total rows: 5000\n",
      "\n",
      "Users with more than one original_purchase_date: 0\n",
      "\n",
      "Rows where purchase_date < original_purchase_date: 1\n"
     ]
    }
   ],
   "source": [
    "# --- Check missing values ---\n",
    "print(\"Missing values per column:\")\n",
    "print(df.isna().sum())\n",
    "\n",
    "# --- Check duplicates ---\n",
    "print(\"\\nNumber of duplicate rows:\", df.duplicated().sum())\n",
    "\n",
    "# --- Check uniqueness of transaction_id ---\n",
    "print(\"\\nUnique transaction_id:\", df[\"transaction_id\"].nunique())\n",
    "print(\"Total rows:\", len(df))\n",
    "\n",
    "# --- Check original_purchase_date consistency ---\n",
    "user_dates = df.groupby(\"original_transaction_id\")[\"original_purchase_date\"].nunique()\n",
    "print(\"\\nUsers with more than one original_purchase_date:\", (user_dates > 1).sum())\n",
    "\n",
    "# --- Check date order ---\n",
    "invalid_dates = df[df[\"purchase_date\"] < df[\"original_purchase_date\"]]\n",
    "print(\"\\nRows where purchase_date < original_purchase_date:\", len(invalid_dates))\n"
   ]
  },
  {
   "cell_type": "code",
   "execution_count": 5,
   "id": "c9055ccc-d1f3-4b1c-ac41-da0ea2f9f85d",
   "metadata": {},
   "outputs": [
    {
     "name": "stdout",
     "output_type": "stream",
     "text": [
      "Rows after cleaning: 4999\n"
     ]
    }
   ],
   "source": [
    "# remove rows where purchase_date < original_purchase_date\n",
    "df = df[df[\"purchase_date\"] >= df[\"original_purchase_date\"]]\n",
    "\n",
    "print(\"Rows after cleaning:\", len(df))\n"
   ]
  },
  {
   "cell_type": "code",
   "execution_count": 6,
   "id": "cae55053-4147-4d0f-ba5c-9a328145f7d5",
   "metadata": {},
   "outputs": [
    {
     "name": "stdout",
     "output_type": "stream",
     "text": [
      "Users who paid more than once within 7 days: 5\n",
      "Total suspicious transactions: 6\n",
      "\n",
      "Examples:\n",
      "      original_transaction_id original_purchase_date    transaction_id  \\\n",
      "1253          120002258196905             2024-05-05  1120000010058780   \n",
      "1252          120002258196905             2024-05-05  1120000011992537   \n",
      "3235          160001953881179             2024-05-06   160001976858363   \n",
      "4026          180002056946662             2024-05-04   180002098345945   \n",
      "890          1110000009798992             2024-05-30   110002150393712   \n",
      "\n",
      "     purchase_date  gap_days  \n",
      "1253    2024-05-11       6.0  \n",
      "1252    2024-05-13       2.0  \n",
      "3235    2024-05-22       0.0  \n",
      "4026    2024-06-02       2.0  \n",
      "890     2024-06-05       6.0  \n"
     ]
    }
   ],
   "source": [
    "# group by user and calculate day gaps between consecutive transactions\n",
    "df_sorted = df.sort_values([\"original_transaction_id\", \"purchase_date\"])\n",
    "\n",
    "# for each user: difference in days between this and previous transaction\n",
    "df_sorted[\"gap_days\"] = df_sorted.groupby(\"original_transaction_id\")[\"purchase_date\"].diff().dt.days\n",
    "\n",
    "# find suspicious cases (<7 days)\n",
    "too_frequent = df_sorted[df_sorted[\"gap_days\"].notna() & (df_sorted[\"gap_days\"] < 7)]\n",
    "\n",
    "print(\"Users who paid more than once within 7 days:\", too_frequent[\"original_transaction_id\"].nunique())\n",
    "print(\"Total suspicious transactions:\", len(too_frequent))\n",
    "\n",
    "# optional: show first few suspicious rows\n",
    "print(\"\\nExamples:\")\n",
    "print(too_frequent.head())\n"
   ]
  },
  {
   "cell_type": "code",
   "execution_count": 7,
   "id": "ae538eb6-1068-4a5f-aaf1-e925029d1e97",
   "metadata": {},
   "outputs": [
    {
     "name": "stdout",
     "output_type": "stream",
     "text": [
      "Rows before: 4999\n",
      "Rows after cleaning: 4993\n"
     ]
    }
   ],
   "source": [
    "# remove suspicious transactions with gap_days < 7\n",
    "clean_df = df_sorted[\n",
    "    (df_sorted[\"gap_days\"].isna()) | (df_sorted[\"gap_days\"] >= 7)\n",
    "].copy()\n",
    "\n",
    "print(\"Rows before:\", len(df_sorted))\n",
    "print(\"Rows after cleaning:\", len(clean_df))\n"
   ]
  },
  {
   "cell_type": "code",
   "execution_count": 8,
   "id": "13e614e8-8e91-46a3-b5c9-b376b7cf3d13",
   "metadata": {},
   "outputs": [
    {
     "name": "stdout",
     "output_type": "stream",
     "text": [
      "    original_transaction_id purchase_date  days_since_start  is_paid\n",
      "1           100001666350205    2024-05-01                 0    False\n",
      "0           100001666350205    2024-05-08                 7     True\n",
      "2           100001666350205    2024-05-23                22     True\n",
      "3           100001666928347    2024-05-01                 0    False\n",
      "4           100001667091726    2024-05-01                 0    False\n",
      "10          100001667348375    2024-05-01                 0    False\n",
      "7           100001667348375    2024-05-08                 7     True\n",
      "5           100001667348375    2024-05-16                15     True\n",
      "8           100001667348375    2024-05-23                22     True\n",
      "9           100001667348375    2024-05-30                29     True\n"
     ]
    }
   ],
   "source": [
    "# calculate days_since_start\n",
    "clean_df[\"days_since_start\"] = (\n",
    "    clean_df[\"purchase_date\"] - clean_df[\"original_purchase_date\"]\n",
    ").dt.days\n",
    "\n",
    "# mark first transaction per user as trial, others as paid\n",
    "clean_df[\"is_paid\"] = (\n",
    "    clean_df.groupby(\"original_transaction_id\")[\"purchase_date\"]\n",
    "    .rank(method=\"first\")\n",
    "    > 1\n",
    ")\n",
    "\n",
    "# check result\n",
    "print(clean_df[[\"original_transaction_id\",\"purchase_date\",\"days_since_start\",\"is_paid\"]].head(10))\n"
   ]
  },
  {
   "cell_type": "code",
   "execution_count": 9,
   "id": "01cb27da-2dee-4d21-be29-81a5ec3ddc81",
   "metadata": {},
   "outputs": [
    {
     "name": "stdout",
     "output_type": "stream",
     "text": [
      "    original_transaction_id purchase_date  days_since_start  week_number  \\\n",
      "1           100001666350205    2024-05-01                 0            0   \n",
      "0           100001666350205    2024-05-08                 7            1   \n",
      "2           100001666350205    2024-05-23                22            3   \n",
      "3           100001666928347    2024-05-01                 0            0   \n",
      "4           100001667091726    2024-05-01                 0            0   \n",
      "10          100001667348375    2024-05-01                 0            0   \n",
      "7           100001667348375    2024-05-08                 7            1   \n",
      "5           100001667348375    2024-05-16                15            2   \n",
      "8           100001667348375    2024-05-23                22            3   \n",
      "9           100001667348375    2024-05-30                29            4   \n",
      "\n",
      "    is_paid  \n",
      "1     False  \n",
      "0      True  \n",
      "2      True  \n",
      "3     False  \n",
      "4     False  \n",
      "10    False  \n",
      "7      True  \n",
      "5      True  \n",
      "8      True  \n",
      "9      True  \n"
     ]
    }
   ],
   "source": [
    "# each 7-day block is one subscription week\n",
    "clean_df[\"week_number\"] = (clean_df[\"days_since_start\"] // 7).astype(int)\n",
    "\n",
    "# check result\n",
    "print(clean_df[[\"original_transaction_id\",\"purchase_date\",\"days_since_start\",\"week_number\",\"is_paid\"]].head(10))\n"
   ]
  },
  {
   "cell_type": "code",
   "execution_count": 10,
   "id": "11088184-bb45-4bec-b640-8ec11ce4b691",
   "metadata": {},
   "outputs": [
    {
     "name": "stdout",
     "output_type": "stream",
     "text": [
      "Total users: 3129\n",
      "Users with at least one paid transaction: 1019\n",
      "Trial-to-paid conversion rate: 32.57 %\n"
     ]
    }
   ],
   "source": [
    "# count total users\n",
    "total_users = clean_df[\"original_transaction_id\"].nunique()\n",
    "\n",
    "# find users who have at least one paid transaction\n",
    "paid_users = (\n",
    "    clean_df[clean_df[\"is_paid\"] == True][\"original_transaction_id\"]\n",
    "    .nunique()\n",
    ")\n",
    "\n",
    "# calculate conversion\n",
    "conversion_rate = paid_users / total_users\n",
    "\n",
    "# print results\n",
    "print(\"Total users:\", total_users)\n",
    "print(\"Users with at least one paid transaction:\", paid_users)\n",
    "print(\"Trial-to-paid conversion rate:\", round(conversion_rate * 100, 2), \"%\")\n"
   ]
  },
  {
   "cell_type": "code",
   "execution_count": 11,
   "id": "7114e808-2074-4d59-970d-e2a2979f3809",
   "metadata": {},
   "outputs": [
    {
     "name": "stdout",
     "output_type": "stream",
     "text": [
      "Conversion rate: 32.57 %\n",
      "Average revenue per user at day 14: $ 2.21\n"
     ]
    }
   ],
   "source": [
    "# 4.1 Trial-to-paid conversion\n",
    "total_users = clean_df[\"original_transaction_id\"].nunique()\n",
    "paid_users = clean_df.loc[clean_df[\"is_paid\"], \"original_transaction_id\"].nunique()\n",
    "conversion_rate = paid_users / total_users\n",
    "print(\"Conversion rate:\", round(conversion_rate * 100, 2), \"%\")\n",
    "\n",
    "# 4.2 Avg net revenue per user at day 14 (включительно)\n",
    "PRICE = 4.99\n",
    "paid_before_14 = clean_df[(clean_df[\"is_paid\"]) & (clean_df[\"days_since_start\"] <= 14)]\n",
    "total_rev_14 = len(paid_before_14) * PRICE\n",
    "avg_rev_14 = total_rev_14 / total_users\n",
    "print(\"Average revenue per user at day 14: $\", round(avg_rev_14, 2))\n"
   ]
  },
  {
   "cell_type": "code",
   "execution_count": 25,
   "id": "ca706f5b-8bdc-4a57-af39-ebc937d09977",
   "metadata": {},
   "outputs": [
    {
     "name": "stdout",
     "output_type": "stream",
     "text": [
      "Conversion rate: 32.73 %\n",
      "Forecasted ARPU_90 (predicted): $ 11.92\n"
     ]
    }
   ],
   "source": [
    "PRICE = 4.99\n",
    "\n",
    "# total number of users\n",
    "n_users = df[\"original_transaction_id\"].nunique()\n",
    "\n",
    "# conversion rate: users with at least one transaction after trial (>= 7 days)\n",
    "converted_users = df[df[\"days_since_start\"] >= 7][\"original_transaction_id\"].nunique()\n",
    "conversion_rate = converted_users / n_users\n",
    "\n",
    "# business assumption: converted users make on average 7.3 paid weeks within 90 days\n",
    "weeks_per_paying_user = 7.3\n",
    "\n",
    "# forecasted ARPU_90\n",
    "arpu_90 = conversion_rate * weeks_per_paying_user * PRICE\n",
    "\n",
    "print(\"Conversion rate:\", round(conversion_rate * 100, 2), \"%\")\n",
    "print(\"Forecasted ARPU_90 (predicted): $\", round(arpu_90, 2))\n"
   ]
  },
  {
   "cell_type": "markdown",
   "id": "4fd3c4fd-3b12-4c0f-8a79-a93d444489bc",
   "metadata": {},
   "source": [
    "## Results\n",
    "\n",
    "- **Trial-to-paid conversion rate:** 32.73%  \n",
    "  → about one third of users made at least one paid transaction after the 7-day trial\n",
    "\n",
    "- **Average net revenue per user at day 14:** $2.21  \n",
    "  → low early monetization due to limited number of paid transactions within the first 14 days\n",
    "\n",
    "- **Forecasted average net revenue per user at day 90:** $11.94  \n",
    "  → based on the assumption that each converted user makes 7.3 paid weeks within 90 days\n"
   ]
  }
 ],
 "metadata": {
  "kernelspec": {
   "display_name": "Python 3 (ipykernel)",
   "language": "python",
   "name": "python3"
  },
  "language_info": {
   "codemirror_mode": {
    "name": "ipython",
    "version": 3
   },
   "file_extension": ".py",
   "mimetype": "text/x-python",
   "name": "python",
   "nbconvert_exporter": "python",
   "pygments_lexer": "ipython3",
   "version": "3.11.6"
  }
 },
 "nbformat": 4,
 "nbformat_minor": 5
}
